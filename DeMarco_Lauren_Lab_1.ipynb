{
 "cells": [
  {
   "cell_type": "markdown",
   "id": "cc3020a5",
   "metadata": {},
   "source": [
    "### Post Lab 1 Exercise "
   ]
  },
  {
   "cell_type": "code",
   "execution_count": 1,
   "id": "b54b12dd",
   "metadata": {},
   "outputs": [],
   "source": [
    "#1 See the list below. Please write a program that will tell you what the longest word is in the list. \n",
    "# Package your program inside of a function.\n",
    "\n",
    "def longestword(list): #my function to give me the longest word in the list\n",
    "    word_length = []\n",
    "    \n",
    "    for word in list:\n",
    "        word_length.append((len(word), word)) #adding to the empty list the length of the word, (comma) the word\n",
    "        word_length.sort() #sorting the list in ascending values \n",
    "    return word_length[-1] #printing out the last in the list, the one with the highest amount of characters (last in the list) \n",
    "\n",
    "#https://www.w3resource.com/python-exercises/string/python-data-type-string-exercise-8.php #helped me with troubleshooting"
   ]
  },
  {
   "cell_type": "code",
   "execution_count": 2,
   "id": "e82053c3",
   "metadata": {},
   "outputs": [
    {
     "data": {
      "text/plain": [
       "(8, 'gargoyle')"
      ]
     },
     "execution_count": 2,
     "metadata": {},
     "output_type": "execute_result"
    }
   ],
   "source": [
    "#1 cont.\n",
    "list = [\"apple\", \"chestnut\", \"gargoyle\", \"pandas\", \"sheep\", \"raptor\"] \n",
    "longestword(list) #running the list given"
   ]
  },
  {
   "cell_type": "code",
   "execution_count": 3,
   "id": "f9d24ea6",
   "metadata": {},
   "outputs": [],
   "source": [
    "#2 Now that you have built the program, in a new cell, edit your program: import a .txt file of a list of words \n",
    "#have your program randomly choose 7 words from the file to add to a list\n",
    "#then have the program determine the longest word as you did above.\n",
    "\n",
    "list_ = open(\"gistfile1.txt\").read().split() #import a text file"
   ]
  },
  {
   "cell_type": "code",
   "execution_count": 4,
   "id": "c71dd421",
   "metadata": {},
   "outputs": [
    {
     "name": "stdout",
     "output_type": "stream",
     "text": [
      "['underivable', 'multicarinated', 'Delicious', 'stinking', 'qualitied', 'indeformable', 'condensedness']\n"
     ]
    }
   ],
   "source": [
    "import random\n",
    "seven_random = random.sample(list_, 7) #taking 7 words from the list\n",
    "print(seven_random) #printing our 7 random words"
   ]
  },
  {
   "cell_type": "code",
   "execution_count": 5,
   "id": "1f44b61b",
   "metadata": {},
   "outputs": [
    {
     "data": {
      "text/plain": [
       "(14, 'multicarinated')"
      ]
     },
     "execution_count": 5,
     "metadata": {},
     "output_type": "execute_result"
    }
   ],
   "source": [
    "longestword(seven_random) #running my functinos with the 7 random words"
   ]
  },
  {
   "cell_type": "code",
   "execution_count": 3,
   "id": "ea9f6ff4",
   "metadata": {},
   "outputs": [
    {
     "name": "stdout",
     "output_type": "stream",
     "text": [
      "{'BU': 'Binghamton University', 'USC': 'University of Southern California', 'HPU': 'High Point University', 'JMU': 'James Madison University', 'UCF': 'University of Central Florida'}\n"
     ]
    }
   ],
   "source": [
    "#3 Pretend that you're going to be leading a review session on dictionaries. \n",
    "#Build a program that uses dictionaries and incorporates at least 4 built-in methods.\n",
    "\n",
    "#here is a dictionary with 4 built in methods \n",
    "university_abbreviations = {\"BU\": \"Binghamton University\", \n",
    "                            \"USC\": \"University of Southern California\",\n",
    "                            \"MIT\": \"Massachusetts Institute of Technology\",\n",
    "                            \"HPU\": \"High Point University\"} #this is how to create the dictionary. the abbreviations are the keys and the full school names are the values \n",
    "\n",
    "university_abbreviations[\"JMU\"] = \"James Madison University\" #method 1, here we are adding in a new key value pair to the dictionary \n",
    "university_abbreviations.pop(\"MIT\") #method 2, here we are removing the MIT key value pair with the pop function\n",
    "university_abbreviations.popitem() #method 3, popitem function will remove the last key value pair in the list\n",
    "university_abbreviations.update({\"UCF\": \"University of Central Florida\"}) #method 4, update is a function that will add the key value pair to the dictionary\n",
    "\n",
    "print(university_abbreviations) #when printed, you can see the changes that were made from the origional list"
   ]
  },
  {
   "cell_type": "code",
   "execution_count": null,
   "id": "d56d8c85",
   "metadata": {},
   "outputs": [],
   "source": [
    "#4 Using OOP, I want you to build one of the following things. \n",
    "# As part of the excerise, please write out your brainstorming process in a comment or markdown cell:\n",
    "# My choice: A system to manage a student's school record (would need a way to gather/store personal information, \n",
    "# record grades, record GPA, etc."
   ]
  },
  {
   "cell_type": "markdown",
   "id": "012a4d08",
   "metadata": {},
   "source": [
    "my brainstorm process:\n",
    "- I know I need the class to be for the overarching student\n",
    "- within the class, there will be methods to state or calculate the students GPA, grades, and personal info \n",
    "- I need a way to take input grades for different classes and produce a GPA from that\n",
    "- I need to figure out what other additional info I can include about the student ie their major or email \n",
    "- this allows us to take students information and give us back a way to organize it or interprept it "
   ]
  },
  {
   "cell_type": "code",
   "execution_count": 31,
   "id": "baefd404",
   "metadata": {},
   "outputs": [
    {
     "name": "stdout",
     "output_type": "stream",
     "text": [
      "ldemarc@binghamton.edu\n",
      "You recieved a 3.5 in chem!\n",
      "You recieved a 4.0 in bio!\n",
      "You recieved a 4.0 in Neuroscience!\n",
      "You recieved a 4.0 in coding!\n",
      "Lauren DeMarco 's major is Intergrative Neuroscience\n",
      "['Lauren'] is on the deans list\n"
     ]
    }
   ],
   "source": [
    "#4 cont\n",
    "\n",
    "deans_list = [] #empty list of students on the deans list       \n",
    "class Student: #creating a class\n",
    "    def __init__(self, first_name, last_name, degree, grades): #Constructor method\n",
    "        self.first_name = first_name\n",
    "        self.last_name = last_name\n",
    "        self.grades = grades\n",
    "        self.degree = degree\n",
    "        \n",
    "    def email(self): #method 1\n",
    "        print(f\"{self.first_name.lower()[:1]}{self.last_name.lower()[:6]}@binghamton.edu\")\n",
    "        \n",
    "    def GPA(self): #method 2\n",
    "        for i in self.grades:\n",
    "            if self.grades[i] > 90:\n",
    "                print(f\"You recieved a 4.0 in {i}!\")\n",
    "            if self.grades[i] < 90 and self.grades[i] > 80:\n",
    "                print(f\"You recieved a 3.5 in {i}!\")\n",
    "            if self.grades[i] < 80 and self.grades[i] > 70:\n",
    "                print(f\"You recieved a 3.0 in {i}!\")\n",
    "            if self.grades[i] < 70 and self.grades[i] > 60:\n",
    "                print(f\"You recieved a 2.0 in {i}!\")\n",
    "            if self.grades[i] < 60 and self.grades[i] > 0:\n",
    "                print(f\"You need to retake {i}!\")   \n",
    "                \n",
    "    def major(self): #method 3\n",
    "        print(self.first_name, self.last_name, \"'s major is\", self.degree)\n",
    "        \n",
    "    def deans_list(self): #method 4\n",
    "        if self.grades[\"Neuroscience\"] >= 95: \n",
    "            deans_list.append(self.first_name)\n",
    "            print(deans_list, \"is on the deans list\")\n",
    "        else: \n",
    "            print(\"You did not make the deans list\")\n",
    "\n",
    "Student001 = Student(\"Lauren\", \"DeMarco\" , \"Intergrative Neuroscience\", {\"chem\":89, \"bio\": 94, \"Neuroscience\": 99, \"coding\": 97}) #object\n",
    "\n",
    "Student001.email() #calling the methods\n",
    "Student001.GPA()\n",
    "Student001.major()\n",
    "Student001.deans_list()\n"
   ]
  },
  {
   "cell_type": "code",
   "execution_count": 6,
   "id": "0ed0fec5",
   "metadata": {},
   "outputs": [],
   "source": [
    "#5 Finalize your Hangman program and submit it. Include any necessary comments and explain what you had \"refreshed\" \n",
    "#by building it in class. If appropriate, use functions or OOP to package the pieces of your code\n",
    "\n",
    "def hangman(word): #hangman function\n",
    "    guess_list = set() #keeping a list of all guesses from the player \n",
    "    score = 6 #starting with a score of 6, once it hits 0... game over\n",
    "\n",
    "    while score != 0:   #while the score is not 0\n",
    "        guess = input(\"Let's play hangman. Guess a letter: \") #the player is promted to input a guess\n",
    "        final_guess = guess.lower() #make sure it is lower case\n",
    "        guess_list.add(final_guess) #add ginal guess to guess list\n",
    "        for char in final_word: #for loop, for the characters in the final word which are defined outside of the function...\n",
    "            if final_guess not in final_word: #if the guess is not in the final word\n",
    "                score -= 1 #score will drop 1\n",
    "                print(\"Incorrect Guess. You have \" + str(score) + \" tries left\") #and player is prompted to guess again\n",
    "                if score == 0: #if score hit 0 from this wrong guess, game over\n",
    "                    print(\"Game Over\")\n",
    "                break \n",
    "            else:\n",
    "                print(\"Correct Guess. At location\", final_word.index(guess)) #if the character is in the final word, print correct with the locaiton of the letter (first letter is 0 and so on)\n",
    "                break  "
   ]
  },
  {
   "cell_type": "code",
   "execution_count": 7,
   "id": "b1ea0261",
   "metadata": {},
   "outputs": [
    {
     "name": "stdout",
     "output_type": "stream",
     "text": [
      "Let's play hangman. Guess a letter: a\n",
      "Correct Guess. At location 1\n",
      "Let's play hangman. Guess a letter: b\n",
      "Correct Guess. At location 0\n",
      "Let's play hangman. Guess a letter: c\n",
      "Incorrect Guess. You have 5 tries left\n",
      "Let's play hangman. Guess a letter: d\n",
      "Incorrect Guess. You have 4 tries left\n",
      "Let's play hangman. Guess a letter: e\n",
      "Correct Guess. At location 4\n",
      "Let's play hangman. Guess a letter: f\n",
      "Incorrect Guess. You have 3 tries left\n",
      "Let's play hangman. Guess a letter: g\n",
      "Incorrect Guess. You have 2 tries left\n",
      "Let's play hangman. Guess a letter: a\n",
      "Correct Guess. At location 1\n",
      "Let's play hangman. Guess a letter: i\n",
      "Incorrect Guess. You have 1 tries left\n",
      "Let's play hangman. Guess a letter: g\n",
      "Incorrect Guess. You have 0 tries left\n",
      "Game Over\n"
     ]
    }
   ],
   "source": [
    "final_word = [\"b\", \"a\", \"x\", \"t\", \"e\", \"r\"] #here is the final word I chose\n",
    "hangman(final_word) #run the function with my word "
   ]
  }
 ],
 "metadata": {
  "kernelspec": {
   "display_name": "Python 3 (ipykernel)",
   "language": "python",
   "name": "python3"
  },
  "language_info": {
   "codemirror_mode": {
    "name": "ipython",
    "version": 3
   },
   "file_extension": ".py",
   "mimetype": "text/x-python",
   "name": "python",
   "nbconvert_exporter": "python",
   "pygments_lexer": "ipython3",
   "version": "3.9.12"
  }
 },
 "nbformat": 4,
 "nbformat_minor": 5
}
