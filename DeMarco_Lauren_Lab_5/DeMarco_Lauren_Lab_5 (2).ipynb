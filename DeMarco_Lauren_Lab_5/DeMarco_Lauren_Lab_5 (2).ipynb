{
 "cells": [
  {
   "cell_type": "markdown",
   "id": "db28a2d4",
   "metadata": {},
   "source": [
    "### DeMarco, Lauren Lab 5 Post Lab"
   ]
  },
  {
   "cell_type": "code",
   "execution_count": 1,
   "id": "bfc2030c",
   "metadata": {},
   "outputs": [],
   "source": [
    "from selenium import webdriver #all imports needed\n",
    "from selenium.webdriver.chrome.service import Service\n",
    "from selenium.webdriver.common.keys import Keys\n",
    "from selenium.webdriver.common.by import By\n",
    "from selenium.webdriver.support.ui import WebDriverWait\n",
    "from selenium.webdriver.support import expected_conditions as EC\n",
    "import csv"
   ]
  },
  {
   "cell_type": "code",
   "execution_count": 2,
   "id": "d95d83d3",
   "metadata": {},
   "outputs": [],
   "source": [
    "PATH = Service(\"/Users/laurendemarco/Desktop/Programming/2-28 selenium work/chromedriver.exe\") \n",
    "#setting my file path to where I downloaded selenium "
   ]
  },
  {
   "cell_type": "markdown",
   "id": "5ccc3e76",
   "metadata": {},
   "source": [
    "### 3rd selenium tutorial "
   ]
  },
  {
   "cell_type": "code",
   "execution_count": null,
   "id": "880c7a86",
   "metadata": {},
   "outputs": [],
   "source": [
    "driver = webdriver.Chrome(service = PATH) #first step, chosing to work in Chrome browser and putting our PATH to set the location\n",
    "driver.get(\"https://techwithtim.net\") #the website I am choosing to open up\n",
    "\n",
    "link = driver.find_element(By.LINK_TEXT, \"Python Programming\") #setting link equal to the element titled \"Python Programming\"\n",
    "link.click() #to click to element (link variable in this case)\n",
    "\n",
    "try: \n",
    "    element = WebDriverWait(driver, 10).until(\n",
    "    EC.presence_of_element_located((By.LINK_TEXT, \"Beginner Python Tutorials\"))) #another link we want to set to a variable that we will click\n",
    "    #element.clear() #will clear all text that is in an input field\n",
    "    element.click() #to click to element\n",
    "    \n",
    "    element = WebDriverWait(driver, 10).until(\n",
    "    EC.presence_of_element_located((By.ID, \"sow-button-19310003\"))) #another link to click\n",
    "    element.click() #to click the element\n",
    "    \n",
    "    driver.back() #going back one page\n",
    "    driver.back() #going back another page\n",
    "    driver.back() #going back another page\n",
    "    driver.forward() #going forward a page\n",
    "    driver.forward() #going forward another page\n",
    "            \n",
    "except:\n",
    "    driver.quit() #will close the whole browser"
   ]
  },
  {
   "cell_type": "markdown",
   "id": "b435d78e",
   "metadata": {},
   "source": [
    "### Web Scraping GOV"
   ]
  },
  {
   "cell_type": "code",
   "execution_count": 3,
   "id": "5387e975",
   "metadata": {},
   "outputs": [],
   "source": [
    "PATH = Service(\"/Users/laurendemarco/Desktop/Programming/2-28 selenium work/chromedriver.exe\") \n",
    "#setting my file path to where I downloaded selenium "
   ]
  },
  {
   "cell_type": "code",
   "execution_count": 4,
   "id": "bc1b56c9",
   "metadata": {
    "scrolled": true
   },
   "outputs": [],
   "source": [
    "driver = webdriver.Chrome(service = PATH) #first step, chosing to work in Chrome browser and putting our PATH to set the location\n",
    "driver.get(\"https://data.gov/\") #the website I am choosing to open up\n",
    "\n",
    "try: \n",
    "    element = WebDriverWait(driver, 10).until(\n",
    "    EC.presence_of_element_located((By.LINK_TEXT, \"DATA\"))) #open up data tab\n",
    "    element.click()\n",
    "    \n",
    "    search = driver.find_element(By.ID,\"search-big\")\n",
    "    search.send_keys(\"climate change\") #typing climate change into search bar\n",
    "    search.send_keys(Keys.RETURN)\n",
    "    \n",
    "except:\n",
    "    driver.quit()"
   ]
  },
  {
   "cell_type": "code",
   "execution_count": 41,
   "id": "989358c6",
   "metadata": {},
   "outputs": [
    {
     "name": "stdout",
     "output_type": "stream",
     "text": [
      "Federal\n",
      "Food Price Outlook 777 recent views\n",
      "Department of Agriculture — The Consumer Price Index (CPI) for food is a component of the all-items CPI. The CPI measures the average change over time in the prices paid by urban consumers for a...\n",
      "XLS\n",
      "Federal\n",
      "National Flood Hazard Layer (NFHL) 310 recent views\n",
      "Federal Emergency Management Agency, Department of Homeland Security — The National Flood Hazard Layer (NFHL) is a compilation of GIS data that comprises a nationwide digital Flood Insurance Rate Map. The GIS data and services are...\n",
      "HTML HTML HTML ZIP PDF HTML\n",
      "Federal\n",
      "US EPA Nonattainment Areas and Designations 191 recent views\n",
      "U.S. Environmental Protection Agency — This web service contains the following state level layers:Ozone 8-hr (1997 standard), Ozone 8-hr (2008 standard), Lead (2008 standard), SO2 1-hr (2010 standard),...\n",
      "HTML Esri REST HTML\n",
      "Federal\n",
      "U.S. Crude Oil, Natural Gas, and Natural Gas Liquids Reserves 158 recent views\n",
      "Department of Energy — Annual data on proved reserves of crude oil, natural gas, and natural gas liquids in the U.S. Based on EIA Form-23L data. Proved reserves are estimated volumes of...\n",
      "XLS\n",
      "Federal\n",
      "U.S. Local Climatological Data (LCD) 147 recent views\n",
      "National Oceanic and Atmospheric Administration, Department of Commerce — Local Climatological Data (LCD) are summaries of climatological conditions from airport and other prominent weather stations managed by NWS, FAA, and DOD. The product...\n",
      "HTML HTML HTML Esri REST KML PDF 9 more in dataset\n",
      "Federal\n",
      "The EPA Automotive Trends Report: Greenhouse Gas Emissions, Fuel Economy, and Technology since 1975 113 recent views\n",
      "U.S. Environmental Protection Agency — This annual report is part of the U.S. Environmental Protection Agency’s (EPA) commitment to provide the public with information about new light-duty vehicle...\n",
      "Comma-Separated Values (.csv)\n",
      "Federal\n",
      "U.S. Billion-dollar Weather and Climate Disasters, 1980 - present (NCEI Accession 0209268) 110 recent views\n",
      "National Oceanic and Atmospheric Administration, Department of Commerce — This NCEI accession contains U.S. disaster cost assessments of the total, direct losses ($) inflicted by: tropical cyclones, inland floods, drought & heat waves,...\n",
      "HTML HTML HTML HTML HTML HTML 7 more in dataset\n",
      "Federal\n",
      "National Greenhouse Gas Emission Inventory 106 recent views\n",
      "U.S. Environmental Protection Agency — The National Greenhouse Gas Emission Inventory contains information on direct emissions of greenhouse gases as well as indirect or potential emissions of greenhouse...\n",
      "CSV\n",
      "Federal\n",
      "NOAA Digital Coast Sea Level Rise and Coastal Flooding Impacts Viewer 104 recent views\n",
      "National Oceanic and Atmospheric Administration, Department of Commerce — The Sea Level Rise and Coastal Flooding Impacts Viewer depicts potential sea level rise and its associated impacts on the nation's coastal areas. These coastal areas...\n",
      "HTML HTML HTML HTML HTML HTML 2 more in dataset\n",
      "Federal\n",
      "Commercial and Residential Hourly Load Profiles for all TMY3 Locations in the United States 93 recent views\n",
      "Department of Energy — Note: This dataset has been superseded by the dataset found at \"End-Use Load Profiles for the U.S. Building Stock\" (submission 4520; linked in the submission...\n",
      "HTML PDF ZIP ZIP ZIP GZ 16 more in dataset\n",
      "Federal\n",
      "Clean Air Status and Trends Network (CASTNET) Download Data Module 81 recent views\n",
      "U.S. Environmental Protection Agency — The CASTNET Download Data module allows users to select, view, and download CASTNET data (Raw, Aggregate, Modeled & Factual Data) based on user selections....\n",
      "CSV\n",
      "Federal\n",
      "Report on U.S. Methane Emissions 1990-2020: Inventories, Projections, and Opportunities for Reductions: 2001 Updated emission and cost estimates 64 recent views\n",
      "U.S. Environmental Protection Agency — This dataset contains relative and absolute forecasts of emissions through 2020 for landfills, natural gas and oil systems, coal mines, manure management and enteric...\n",
      "CSV\n",
      "Federal\n",
      "NACP North American Forest Dynamics Project: Forest Disturbance and Regrowth Data 61 recent views\n",
      "National Aeronautics and Space Administration — This data set provides the results of time-series analyses of Landsat imagery for 55 selected forested sites across the conterminous U.S.A. The output is a pair of...\n",
      "HTML HTML HTML HTML PDF CSV 2 more in dataset\n",
      "Federal\n",
      "Sea Level Trends: Sea Level Variations of the United States Derived from National Water Level Observation Network Stations 58 recent views\n",
      "National Oceanic and Atmospheric Administration, Department of Commerce — Water level records are a combination of the fluctuations of the ocean and the vertical land motion at the location of the station. Monthly mean sea level (MSL)...\n",
      "HTML HTML Esri REST HTML HTML HTML 2 more in dataset\n",
      "Federal\n",
      "Emission & Generation Resource Integrated Database (eGRID) 54 recent views\n",
      "U.S. Environmental Protection Agency — The Emissions & Generation Resource Integrated Database (eGRID) is a comprehensive source of data on characteristics of almost all electric power generated in the...\n",
      "Microsoft Office - OOXML - Spreadsheet (.xlsx) HTML\n",
      "Federal\n",
      "USGS Water Use Data for the Nation - National Water Information System (NWIS) 52 recent views\n",
      "Department of the Interior — The U.S. Geological Survey's National Water-Use Information Program is responsible for compiling and disseminating the nation's water-use data. The USGS works in...\n",
      "XML XML\n",
      "Federal\n",
      "Maritime Limits and Boundaries of United States of America 49 recent views\n",
      "National Oceanic and Atmospheric Administration, Department of Commerce — NOAA is responsible for depicting on its nautical charts the limits of the 12 nautical mile Territorial Sea, 24 nautical mile Contiguous Zone, and 200 nautical mile...\n",
      "KML WMS Esri REST ZIP HTML HTML 2 more in dataset\n",
      "Federal\n",
      "Social Vulnerability Index (SoVI) for the U.S. Coastal States based on the 2010 Census Tracts 43 recent views\n",
      "National Oceanic and Atmospheric Administration, Department of Commerce — The Social Vulnerability Index (SoVI) 2006-10 measures the social vulnerability of U.S. counties to environmental hazards. The index is a comparative metric that...\n",
      "HTML HTML WMS Esri REST HTML HTML 2 more in dataset\n",
      "Federal\n",
      "Climate Change Impacts on Air Quality and Human Health 40 recent views\n",
      "U.S. Environmental Protection Agency — This dataset contains modeled temperature, ozone, and PM2.5 data for the United States over the 21st century, using two global climate model scenarios and two...\n",
      "HTML\n",
      "Federal\n",
      "National Greenhouse Gas Emission Inventory (EV-GHG) 40 recent views\n",
      "U.S. Environmental Protection Agency — The EV-GHG Mobile Source Data asset contains measured mobile source GHG emissions summary compliance information on light-duty vehicles, by model, for certification...\n",
      "CSV\n"
     ]
    },
    {
     "ename": "NameError",
     "evalue": "name 'description' is not defined",
     "output_type": "error",
     "traceback": [
      "\u001b[0;31m---------------------------------------------------------------------------\u001b[0m",
      "\u001b[0;31mNameError\u001b[0m                                 Traceback (most recent call last)",
      "Input \u001b[0;32mIn [41]\u001b[0m, in \u001b[0;36m<cell line: 7>\u001b[0;34m()\u001b[0m\n\u001b[1;32m      8\u001b[0m title \u001b[38;5;241m=\u001b[39m value\u001b[38;5;241m.\u001b[39mtext\n\u001b[1;32m      9\u001b[0m \u001b[38;5;28mprint\u001b[39m(title)\n\u001b[0;32m---> 11\u001b[0m csv_writer\u001b[38;5;241m.\u001b[39mwriterow([title, \u001b[43mdescription\u001b[49m])\n",
      "\u001b[0;31mNameError\u001b[0m: name 'description' is not defined"
     ]
    }
   ],
   "source": [
    "new_csv_file = open(\"gov_scrape.csv\", \"w\", newline=\"\", encoding=\"utf-8\") #create and write to a csv file \n",
    "csv_writer = csv.writer(new_csv_file)\n",
    "csv_writer.writerow([\"Title\", \"Description\"])\n",
    "\n",
    "data = driver.find_elements(By.XPATH, \"//*[@id='content']/div[2]/div/section[1]/div[2]\")\n",
    "\n",
    "for value in data:\n",
    "    title = value.text\n",
    "    print(title)\n",
    "    \n",
    "    csv_writer.writerow([title, description])"
   ]
  },
  {
   "cell_type": "markdown",
   "id": "2f27af99",
   "metadata": {},
   "source": [
    "### Bonus"
   ]
  },
  {
   "cell_type": "code",
   "execution_count": null,
   "id": "10dd592c",
   "metadata": {},
   "outputs": [],
   "source": [
    "try: \n",
    "    element = WebDriverWait(driver, 10).until(\n",
    "    EC.presence_of_element_located((By.LINK_TEXT, \"RESOURCES\"))) #click the resources tab\n",
    "    element.click()\n",
    "    \n",
    "except:\n",
    "    driver.quit()"
   ]
  },
  {
   "cell_type": "code",
   "execution_count": null,
   "id": "0f4b42cc",
   "metadata": {},
   "outputs": [],
   "source": [
    "new_csv_file = open(\"gov_bonus.csv\", \"w\", newline=\"\", encoding=\"utf-8\") #create and write to a csv file \n",
    "csv_writer = csv.writer(new_csv_file)\n",
    "csv_writer.writerow([\"Title\"])\n",
    "\n",
    "datas = driver.find_elements(By.CLASS_NAME, 'wrap-container') #going into the largest class and opening it\n",
    "\n",
    "for val in datas: #for values in this class\n",
    "    print(val.text) #print the text\n",
    "    \n",
    "    csv_writer.writerow([title])"
   ]
  },
  {
   "cell_type": "markdown",
   "id": "4aea3d7b",
   "metadata": {},
   "source": [
    "#### Extra info"
   ]
  },
  {
   "cell_type": "code",
   "execution_count": null,
   "id": "f8cb2d82",
   "metadata": {},
   "outputs": [],
   "source": [
    "data = driver.find_elements(By.XPATH, '//*[@id=\"content\"]/div[2]/div/section[1]/div[2]/ul')\n",
    "for values in data:\n",
    "    print(title.text)\n",
    "    descriptions = driver.find_elements(By.XPATH, '//*[@id=\"content\"]/div[2]/div/section[1]/div[2]/ul/li[1]/div/div[2]')\n",
    "    print(descriptions.text)"
   ]
  },
  {
   "cell_type": "code",
   "execution_count": 59,
   "id": "8677e38b",
   "metadata": {},
   "outputs": [
    {
     "name": "stdout",
     "output_type": "stream",
     "text": [
      "Food Price Outlook 777 recent views\n",
      "National Flood Hazard Layer (NFHL) 310 recent views\n",
      "US EPA Nonattainment Areas and Designations 191 recent views\n",
      "U.S. Crude Oil, Natural Gas, and Natural Gas Liquids Reserves 158 recent views\n",
      "U.S. Local Climatological Data (LCD) 147 recent views\n",
      "The EPA Automotive Trends Report: Greenhouse Gas Emissions, Fuel Economy, and Technology since 1975 113 recent views\n",
      "U.S. Billion-dollar Weather and Climate Disasters, 1980 - present (NCEI Accession 0209268) 110 recent views\n",
      "National Greenhouse Gas Emission Inventory 106 recent views\n",
      "NOAA Digital Coast Sea Level Rise and Coastal Flooding Impacts Viewer 104 recent views\n",
      "Commercial and Residential Hourly Load Profiles for all TMY3 Locations in the United States 93 recent views\n",
      "Clean Air Status and Trends Network (CASTNET) Download Data Module 81 recent views\n",
      "Report on U.S. Methane Emissions 1990-2020: Inventories, Projections, and Opportunities for Reductions: 2001 Updated emission and cost estimates 64 recent views\n",
      "NACP North American Forest Dynamics Project: Forest Disturbance and Regrowth Data 61 recent views\n",
      "Sea Level Trends: Sea Level Variations of the United States Derived from National Water Level Observation Network Stations 58 recent views\n",
      "Emission & Generation Resource Integrated Database (eGRID) 54 recent views\n",
      "USGS Water Use Data for the Nation - National Water Information System (NWIS) 52 recent views\n",
      "Maritime Limits and Boundaries of United States of America 49 recent views\n",
      "Social Vulnerability Index (SoVI) for the U.S. Coastal States based on the 2010 Census Tracts 43 recent views\n",
      "Climate Change Impacts on Air Quality and Human Health 40 recent views\n",
      "National Greenhouse Gas Emission Inventory (EV-GHG) 40 recent views\n"
     ]
    }
   ],
   "source": [
    "title = driver.find_elements(By.CLASS_NAME, 'dataset-heading')\n",
    "for t in title:\n",
    "    print(t.text)"
   ]
  },
  {
   "cell_type": "code",
   "execution_count": 62,
   "id": "9fa936e8",
   "metadata": {},
   "outputs": [],
   "source": [
    "descriptions = driver.find_elements(By.XPATH, 'notes')\n",
    "for d in descriptions:\n",
    "    print(d.text)"
   ]
  },
  {
   "cell_type": "code",
   "execution_count": null,
   "id": "40d4020a",
   "metadata": {},
   "outputs": [],
   "source": [
    "#this was the other way I was trying to web scrape but I kept getting kicked off the site and it took hours to get back allowed onto it\n",
    "#this would have allowed for organization between title and description but the site was giving my issues and blocking me\n",
    "#i was able to isolate the titles and descriptions, but with the page blocking me I could not revise the csv\n"
   ]
  }
 ],
 "metadata": {
  "kernelspec": {
   "display_name": "Python 3 (ipykernel)",
   "language": "python",
   "name": "python3"
  },
  "language_info": {
   "codemirror_mode": {
    "name": "ipython",
    "version": 3
   },
   "file_extension": ".py",
   "mimetype": "text/x-python",
   "name": "python",
   "nbconvert_exporter": "python",
   "pygments_lexer": "ipython3",
   "version": "3.9.12"
  }
 },
 "nbformat": 4,
 "nbformat_minor": 5
}
