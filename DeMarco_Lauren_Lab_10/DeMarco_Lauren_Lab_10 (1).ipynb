{
 "cells": [
  {
   "cell_type": "code",
   "execution_count": 70,
   "id": "02c771d5",
   "metadata": {},
   "outputs": [],
   "source": [
    "import requests\n",
    "from tkinter import *\n",
    "from tkinter import font"
   ]
  },
  {
   "cell_type": "markdown",
   "id": "ecc033c2",
   "metadata": {},
   "source": [
    "### GUI #1"
   ]
  },
  {
   "cell_type": "code",
   "execution_count": 183,
   "id": "c60b494b",
   "metadata": {},
   "outputs": [],
   "source": [
    "root = Tk()\n",
    "root.title(\"Dropdown practice\")\n",
    "root.geometry(\"400x400\")\n",
    "\n",
    "item_list = []\n",
    "\n",
    "n= 0\n",
    "\n",
    "while n!=2:\n",
    "    for item in name:\n",
    "        r = requests.get(\"http://api.quotable.io/random\")\n",
    "        data = r.json()\n",
    "        name = data[\"author\"]\n",
    "        item_list.append(name)  \n",
    "    n+=1  \n",
    "    \n",
    "def chosen_option():\n",
    "    author = value.get()\n",
    "    result_label = Label(root, text= data[\"content\"])\n",
    "    result_label.pack()\n",
    "    \n",
    "value = StringVar()\n",
    "value.set(\"Select an Author\")\n",
    "    \n",
    "dropdown = OptionMenu(root, value, *item_list)\n",
    "choose_button = Button(root, text=\"Click to choose\", command=chosen_option)\n",
    "\n",
    "dropdown.pack()\n",
    "choose_button.pack()\n",
    "\n",
    "exit_button = Button(root, text=\"Exit after one click to reset\", command=root.destroy)\n",
    "exit_button.pack(pady=20) #something this glicthes and buffers but it closess out the GUI and resets it for a new list\n",
    "\n",
    "root.mainloop()"
   ]
  },
  {
   "cell_type": "markdown",
   "id": "8cb66db8",
   "metadata": {},
   "source": [
    "### GUI #2"
   ]
  },
  {
   "cell_type": "code",
   "execution_count": 182,
   "id": "f2cfaa0e",
   "metadata": {},
   "outputs": [],
   "source": [
    "lat = \"41.0188\"\n",
    "lon = \"-73.6814\"\n",
    "genius = requests.get(f\"https://api.weather.gov/points/{lat},{lon}\")\n",
    "\n",
    "json_file = genius.json()\n",
    "json_file\n",
    "\n",
    "json1 = json[\"properties\"][\"periods\"]\n",
    "\n",
    "root = Tk()\n",
    "root.geometry(\"720x400\")\n",
    "root.title(\"This Weeks Weather, A Seven Day Forecast\")\n",
    "\n",
    "#new widget below, radiobutton\n",
    "\n",
    "RBttn = Radiobutton(root, text = \"7 day forecast\", value = 1)\n",
    "RBttn.pack(padx = 5, pady = 5)\n",
    "\n",
    "RBttn2 = Radiobutton(root, text = \"10 day forecast\", value = 2)\n",
    "RBttn2.pack(padx = 5, pady = 5)\n",
    "\n",
    "days = []\n",
    "temps = []\n",
    "descrs = []\n",
    "full = []\n",
    "\n",
    "for j in json1: \n",
    "    day = j[\"name\"]\n",
    "    temp = (str(j[\"temperature\"]) + j[\"temperatureUnit\"])\n",
    "    description = (j[\"shortForecast\"])\n",
    "    full.append(day + \" \" + temp + \"  \" + description)\n",
    "\n",
    "txt_output = Text(root, height=40, width=800)\n",
    "txt_output.pack(pady=30)\n",
    "\n",
    "for item in full:\n",
    "  txt_output.insert(END, item + \"\\n\")\n",
    "\n",
    "root.mainloop()"
   ]
  },
  {
   "cell_type": "code",
   "execution_count": null,
   "id": "0c082042",
   "metadata": {},
   "outputs": [],
   "source": []
  }
 ],
 "metadata": {
  "kernelspec": {
   "display_name": "Python 3 (ipykernel)",
   "language": "python",
   "name": "python3"
  },
  "language_info": {
   "codemirror_mode": {
    "name": "ipython",
    "version": 3
   },
   "file_extension": ".py",
   "mimetype": "text/x-python",
   "name": "python",
   "nbconvert_exporter": "python",
   "pygments_lexer": "ipython3",
   "version": "3.9.12"
  }
 },
 "nbformat": 4,
 "nbformat_minor": 5
}
